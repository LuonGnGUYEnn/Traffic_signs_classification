{
  "cells": [
    {
      "cell_type": "code",
      "execution_count": 2,
      "metadata": {
        "colab": {
          "base_uri": "https://localhost:8080/",
          "height": 36
        },
        "id": "Z74V-SF4TWJ8",
        "outputId": "c024ec11-33b7-4b01-f053-eb9efb6eb7df"
      },
      "outputs": [
        {
          "data": {
            "application/vnd.google.colaboratory.intrinsic+json": {
              "type": "string"
            },
            "text/plain": [
              "'2.8.2'"
            ]
          },
          "execution_count": 2,
          "metadata": {},
          "output_type": "execute_result"
        }
      ],
      "source": [
        "import tensorflow as tf\n",
        "tf.__version__"
      ]
    },
    {
      "cell_type": "code",
      "execution_count": 3,
      "metadata": {
        "colab": {
          "base_uri": "https://localhost:8080/"
        },
        "id": "7MoaOkMc37VU",
        "outputId": "e896c7cb-a9fa-4705-a8cd-ca66a31efa0f"
      },
      "outputs": [
        {
          "name": "stdout",
          "output_type": "stream",
          "text": [
            "Mounted at /content/driver\n"
          ]
        }
      ],
      "source": [
        "from google.colab import drive \n",
        "drive.mount(\"/content/driver\")"
      ]
    },
    {
      "cell_type": "code",
      "execution_count": null,
      "metadata": {
        "colab": {
          "base_uri": "https://localhost:8080/"
        },
        "id": "tE11yk5qV8f4",
        "outputId": "8196e7dd-b65c-4ab4-c07e-8d40d545072c"
      },
      "outputs": [],
      "source": [
        "cd /content/drive/MyDrive/Colab Notebooks/ND_BienBaoGT"
      ]
    },
    {
      "cell_type": "code",
      "execution_count": 5,
      "metadata": {
        "id": "M-yX_VJnUEa-"
      },
      "outputs": [],
      "source": [
        "#dow dataset\n",
        "link = 'https://d17h27t6h515a5.cloudfront.net/topher/2017/February/5898cd6f_traffic-signs-data/traffic-signs-data.zip'"
      ]
    },
    {
      "cell_type": "code",
      "execution_count": 6,
      "metadata": {
        "colab": {
          "base_uri": "https://localhost:8080/"
        },
        "id": "wg58FOHvU_VP",
        "outputId": "9bec524b-ea95-418b-eec2-9dc7b20d6eb0"
      },
      "outputs": [
        {
          "name": "stdout",
          "output_type": "stream",
          "text": [
            "Looking in indexes: https://pypi.org/simple, https://us-python.pkg.dev/colab-wheels/public/simple/\n",
            "Collecting wget\n",
            "  Downloading wget-3.2.zip (10 kB)\n",
            "Building wheels for collected packages: wget\n",
            "  Building wheel for wget (setup.py) ... \u001b[?25l\u001b[?25hdone\n",
            "  Created wheel for wget: filename=wget-3.2-py3-none-any.whl size=9675 sha256=2fbd902f46db5e63189f1ee58bc99dad4fd33759e582470b17c377a53543cf58\n",
            "  Stored in directory: /root/.cache/pip/wheels/a1/b6/7c/0e63e34eb06634181c63adacca38b79ff8f35c37e3c13e3c02\n",
            "Successfully built wget\n",
            "Installing collected packages: wget\n",
            "Successfully installed wget-3.2\n"
          ]
        }
      ],
      "source": [
        "!pip install wget"
      ]
    },
    {
      "cell_type": "code",
      "execution_count": 7,
      "metadata": {
        "id": "DpAWf7MEVDp4"
      },
      "outputs": [],
      "source": [
        "import wget"
      ]
    },
    {
      "cell_type": "code",
      "execution_count": 8,
      "metadata": {
        "colab": {
          "base_uri": "https://localhost:8080/",
          "height": 36
        },
        "id": "NYNeMhRYVLE_",
        "outputId": "e7cf2661-f1b6-44c2-81f9-ffbcb8da303a"
      },
      "outputs": [
        {
          "data": {
            "application/vnd.google.colaboratory.intrinsic+json": {
              "type": "string"
            },
            "text/plain": [
              "'traffic-signs-data.zip'"
            ]
          },
          "execution_count": 8,
          "metadata": {},
          "output_type": "execute_result"
        }
      ],
      "source": [
        "wget.download(link)"
      ]
    },
    {
      "cell_type": "code",
      "execution_count": 9,
      "metadata": {
        "id": "U1n-D6AFWhlN"
      },
      "outputs": [],
      "source": [
        "data = \"./\""
      ]
    },
    {
      "cell_type": "code",
      "execution_count": 10,
      "metadata": {
        "id": "uVch8evAWkPw"
      },
      "outputs": [],
      "source": [
        "!unzip -q traffic-signs-data.zip -d $data"
      ]
    },
    {
      "cell_type": "code",
      "execution_count": 11,
      "metadata": {
        "id": "yP1lfJJwWvjx"
      },
      "outputs": [],
      "source": [
        "train_link = data + \"train.p\" # link file train.p\n",
        "valid_link = data + \"valid.p\"\n",
        "test_link = data + \"test.p\""
      ]
    },
    {
      "cell_type": "code",
      "execution_count": 12,
      "metadata": {
        "id": "gPJLGBeNXEya"
      },
      "outputs": [],
      "source": [
        "import pickle # thu vien de doc file .p"
      ]
    },
    {
      "cell_type": "code",
      "execution_count": 13,
      "metadata": {
        "id": "kRpO24VyXHiD"
      },
      "outputs": [],
      "source": [
        "with open(train_link, mode = \"rb\") as f:\n",
        "  train = pickle.load(f)\n",
        "\n",
        "with open(valid_link, mode = \"rb\") as f:\n",
        "  valid = pickle.load(f)  # sử dụng bộ valib ở cuối mỗi bước train\n",
        "                          # để đảm bảo sau mỗi bước train ta đáng giá đ\n",
        "                          # độ chính xác tăng lên hay giảm đi\n",
        "\n",
        "with open(test_link, mode = \"rb\") as f:\n",
        "  test = pickle.load(f)"
      ]
    },
    {
      "cell_type": "code",
      "execution_count": 14,
      "metadata": {
        "colab": {
          "base_uri": "https://localhost:8080/"
        },
        "id": "bxU9FPGOXSHG",
        "outputId": "8325861c-e69f-4fc1-d16d-bd3223514268"
      },
      "outputs": [
        {
          "data": {
            "text/plain": [
              "{'coords': array([[  6,   5,  21,  20],\n",
              "        [  6,   6,  22,  22],\n",
              "        [  5,   6,  22,  23],\n",
              "        ...,\n",
              "        [ 17,  15, 178, 155],\n",
              "        [ 17,  15, 183, 160],\n",
              "        [ 20,  18, 211, 184]], dtype=uint8),\n",
              " 'features': array([[[[ 28,  25,  24],\n",
              "          [ 27,  24,  23],\n",
              "          [ 27,  24,  22],\n",
              "          ...,\n",
              "          [ 32,  28,  24],\n",
              "          [ 31,  27,  25],\n",
              "          [ 31,  27,  26]],\n",
              " \n",
              "         [[ 29,  26,  25],\n",
              "          [ 27,  25,  23],\n",
              "          [ 27,  25,  23],\n",
              "          ...,\n",
              "          [ 32,  28,  24],\n",
              "          [ 31,  27,  24],\n",
              "          [ 30,  27,  25]],\n",
              " \n",
              "         [[ 28,  26,  26],\n",
              "          [ 27,  25,  23],\n",
              "          [ 26,  25,  23],\n",
              "          ...,\n",
              "          [ 32,  28,  24],\n",
              "          [ 31,  27,  24],\n",
              "          [ 30,  27,  25]],\n",
              " \n",
              "         ...,\n",
              " \n",
              "         [[ 27,  24,  23],\n",
              "          [ 28,  25,  24],\n",
              "          [ 30,  25,  24],\n",
              "          ...,\n",
              "          [ 27,  24,  23],\n",
              "          [ 28,  24,  22],\n",
              "          [ 29,  25,  22]],\n",
              " \n",
              "         [[ 28,  23,  23],\n",
              "          [ 29,  24,  24],\n",
              "          [ 31,  25,  24],\n",
              "          ...,\n",
              "          [ 27,  24,  23],\n",
              "          [ 28,  24,  22],\n",
              "          [ 28,  24,  21]],\n",
              " \n",
              "         [[ 29,  23,  23],\n",
              "          [ 30,  24,  24],\n",
              "          [ 32,  24,  23],\n",
              "          ...,\n",
              "          [ 27,  24,  22],\n",
              "          [ 27,  23,  21],\n",
              "          [ 26,  22,  20]]],\n",
              " \n",
              " \n",
              "        [[[ 28,  24,  24],\n",
              "          [ 26,  23,  23],\n",
              "          [ 27,  24,  24],\n",
              "          ...,\n",
              "          [ 31,  28,  26],\n",
              "          [ 31,  28,  27],\n",
              "          [ 32,  28,  27]],\n",
              " \n",
              "         [[ 27,  24,  24],\n",
              "          [ 27,  24,  24],\n",
              "          [ 28,  25,  24],\n",
              "          ...,\n",
              "          [ 31,  27,  25],\n",
              "          [ 31,  27,  26],\n",
              "          [ 33,  29,  27]],\n",
              " \n",
              "         [[ 26,  24,  24],\n",
              "          [ 26,  24,  24],\n",
              "          [ 27,  24,  23],\n",
              "          ...,\n",
              "          [ 31,  26,  25],\n",
              "          [ 31,  27,  26],\n",
              "          [ 33,  29,  27]],\n",
              " \n",
              "         ...,\n",
              " \n",
              "         [[ 28,  25,  23],\n",
              "          [ 30,  27,  24],\n",
              "          [ 30,  27,  24],\n",
              "          ...,\n",
              "          [ 27,  24,  22],\n",
              "          [ 27,  24,  22],\n",
              "          [ 28,  24,  22]],\n",
              " \n",
              "         [[ 27,  24,  22],\n",
              "          [ 29,  26,  23],\n",
              "          [ 31,  26,  24],\n",
              "          ...,\n",
              "          [ 26,  23,  21],\n",
              "          [ 27,  24,  22],\n",
              "          [ 28,  25,  23]],\n",
              " \n",
              "         [[ 28,  24,  23],\n",
              "          [ 28,  24,  22],\n",
              "          [ 29,  24,  22],\n",
              "          ...,\n",
              "          [ 27,  23,  22],\n",
              "          [ 27,  24,  23],\n",
              "          [ 29,  26,  25]]],\n",
              " \n",
              " \n",
              "        [[[ 29,  25,  25],\n",
              "          [ 29,  26,  26],\n",
              "          [ 30,  27,  27],\n",
              "          ...,\n",
              "          [ 31,  27,  24],\n",
              "          [ 31,  28,  25],\n",
              "          [ 32,  29,  27]],\n",
              " \n",
              "         [[ 27,  24,  24],\n",
              "          [ 27,  25,  25],\n",
              "          [ 28,  26,  26],\n",
              "          ...,\n",
              "          [ 31,  27,  23],\n",
              "          [ 32,  28,  25],\n",
              "          [ 33,  30,  27]],\n",
              " \n",
              "         [[ 27,  24,  24],\n",
              "          [ 28,  26,  26],\n",
              "          [ 29,  27,  27],\n",
              "          ...,\n",
              "          [ 32,  28,  24],\n",
              "          [ 32,  28,  24],\n",
              "          [ 33,  29,  26]],\n",
              " \n",
              "         ...,\n",
              " \n",
              "         [[ 28,  26,  22],\n",
              "          [ 29,  26,  21],\n",
              "          [ 31,  26,  22],\n",
              "          ...,\n",
              "          [ 29,  24,  21],\n",
              "          [ 28,  23,  20],\n",
              "          [ 28,  23,  22]],\n",
              " \n",
              "         [[ 27,  26,  23],\n",
              "          [ 28,  25,  21],\n",
              "          [ 30,  25,  22],\n",
              "          ...,\n",
              "          [ 28,  23,  21],\n",
              "          [ 27,  22,  20],\n",
              "          [ 28,  24,  22]],\n",
              " \n",
              "         [[ 29,  26,  23],\n",
              "          [ 28,  24,  21],\n",
              "          [ 29,  24,  21],\n",
              "          ...,\n",
              "          [ 29,  25,  23],\n",
              "          [ 28,  24,  22],\n",
              "          [ 30,  26,  24]]],\n",
              " \n",
              " \n",
              "        ...,\n",
              " \n",
              " \n",
              "        [[[ 51,  67,  86],\n",
              "          [ 55,  59,  71],\n",
              "          [ 75,  81,  92],\n",
              "          ...,\n",
              "          [250, 248, 243],\n",
              "          [207, 212, 233],\n",
              "          [121, 116, 140]],\n",
              " \n",
              "         [[ 35,  42,  49],\n",
              "          [ 48,  47,  51],\n",
              "          [ 91,  96, 113],\n",
              "          ...,\n",
              "          [220, 224, 226],\n",
              "          [169, 177, 187],\n",
              "          [ 84,  87, 100]],\n",
              " \n",
              "         [[ 27,  26,  29],\n",
              "          [ 41,  38,  39],\n",
              "          [ 55,  64,  78],\n",
              "          ...,\n",
              "          [122, 143, 160],\n",
              "          [ 97, 104, 129],\n",
              "          [ 59,  59,  56]],\n",
              " \n",
              "         ...,\n",
              " \n",
              "         [[ 24,  23,  27],\n",
              "          [ 21,  20,  27],\n",
              "          [ 20,  19,  22],\n",
              "          ...,\n",
              "          [ 76,  79,  83],\n",
              "          [ 54,  64,  77],\n",
              "          [ 45,  51,  65]],\n",
              " \n",
              "         [[ 31,  31,  33],\n",
              "          [ 22,  23,  29],\n",
              "          [ 20,  18,  21],\n",
              "          ...,\n",
              "          [ 66,  67,  84],\n",
              "          [ 56,  65,  74],\n",
              "          [ 45,  55,  73]],\n",
              " \n",
              "         [[ 28,  28,  30],\n",
              "          [ 22,  21,  25],\n",
              "          [ 19,  18,  19],\n",
              "          ...,\n",
              "          [ 67,  63,  76],\n",
              "          [ 39,  45,  55],\n",
              "          [ 32,  37,  47]]],\n",
              " \n",
              " \n",
              "        [[[ 82,  78,  96],\n",
              "          [120, 126, 148],\n",
              "          [112, 125, 146],\n",
              "          ...,\n",
              "          [185, 182, 177],\n",
              "          [204, 210, 215],\n",
              "          [132, 114, 121]],\n",
              " \n",
              "         [[ 74,  77,  93],\n",
              "          [171, 174, 185],\n",
              "          [137, 164, 184],\n",
              "          ...,\n",
              "          [180, 181, 187],\n",
              "          [198, 200, 213],\n",
              "          [ 79,  85,  85]],\n",
              " \n",
              "         [[ 54,  50,  56],\n",
              "          [100, 106, 118],\n",
              "          [117, 132, 158],\n",
              "          ...,\n",
              "          [157, 153, 160],\n",
              "          [176, 183, 199],\n",
              "          [ 88,  80,  82]],\n",
              " \n",
              "         ...,\n",
              " \n",
              "         [[ 22,  21,  22],\n",
              "          [ 20,  19,  19],\n",
              "          [ 18,  16,  19],\n",
              "          ...,\n",
              "          [ 50,  50,  60],\n",
              "          [ 37,  43,  52],\n",
              "          [ 30,  41,  59]],\n",
              " \n",
              "         [[ 18,  16,  18],\n",
              "          [ 19,  17,  18],\n",
              "          [ 19,  18,  21],\n",
              "          ...,\n",
              "          [ 36,  44,  60],\n",
              "          [ 33,  36,  48],\n",
              "          [ 36,  43,  61]],\n",
              " \n",
              "         [[ 18,  17,  20],\n",
              "          [ 21,  20,  23],\n",
              "          [ 24,  22,  25],\n",
              "          ...,\n",
              "          [ 32,  34,  41],\n",
              "          [ 45,  42,  48],\n",
              "          [ 41,  43,  52]]],\n",
              " \n",
              " \n",
              "        [[[ 69,  79,  96],\n",
              "          [ 24,  26,  28],\n",
              "          [ 40,  42,  45],\n",
              "          ...,\n",
              "          [225, 234, 237],\n",
              "          [151, 161, 166],\n",
              "          [164, 162, 169]],\n",
              " \n",
              "         [[ 99, 110, 125],\n",
              "          [ 36,  41,  47],\n",
              "          [ 63,  56,  62],\n",
              "          ...,\n",
              "          [197, 216, 224],\n",
              "          [154, 163, 169],\n",
              "          [164, 163, 159]],\n",
              " \n",
              "         [[104, 107, 113],\n",
              "          [ 34,  37,  40],\n",
              "          [ 72,  70,  77],\n",
              "          ...,\n",
              "          [223, 237, 235],\n",
              "          [181, 192, 198],\n",
              "          [166, 167, 159]],\n",
              " \n",
              "         ...,\n",
              " \n",
              "         [[ 21,  20,  23],\n",
              "          [ 23,  24,  30],\n",
              "          [ 19,  20,  24],\n",
              "          ...,\n",
              "          [ 45,  47,  54],\n",
              "          [ 58,  62,  70],\n",
              "          [ 58,  70,  82]],\n",
              " \n",
              "         [[ 18,  17,  21],\n",
              "          [ 19,  19,  24],\n",
              "          [ 18,  18,  23],\n",
              "          ...,\n",
              "          [ 36,  36,  40],\n",
              "          [ 58,  59,  70],\n",
              "          [ 61,  69,  81]],\n",
              " \n",
              "         [[ 17,  16,  19],\n",
              "          [ 16,  15,  18],\n",
              "          [ 16,  15,  18],\n",
              "          ...,\n",
              "          [ 40,  40,  44],\n",
              "          [ 57,  62,  73],\n",
              "          [ 57,  68,  80]]]], dtype=uint8),\n",
              " 'labels': array([41, 41, 41, ..., 25, 25, 25], dtype=uint8),\n",
              " 'sizes': array([[ 26,  25],\n",
              "        [ 27,  27],\n",
              "        [ 27,  28],\n",
              "        ...,\n",
              "        [194, 169],\n",
              "        [201, 175],\n",
              "        [230, 201]], dtype=uint8)}"
            ]
          },
          "execution_count": 14,
          "metadata": {},
          "output_type": "execute_result"
        }
      ],
      "source": [
        "train"
      ]
    },
    {
      "cell_type": "code",
      "execution_count": 15,
      "metadata": {
        "id": "wPjAmSa6X01x"
      },
      "outputs": [],
      "source": [
        "trainX = train[\"features\"]\n",
        "trainY = train[\"labels\"]   "
      ]
    },
    {
      "cell_type": "code",
      "execution_count": 16,
      "metadata": {
        "colab": {
          "base_uri": "https://localhost:8080/"
        },
        "id": "u-9x1U2tYEk6",
        "outputId": "af23d3a1-ba08-4877-8000-a944f7770535"
      },
      "outputs": [
        {
          "data": {
            "text/plain": [
              "(34799, 32, 32, 3)"
            ]
          },
          "execution_count": 16,
          "metadata": {},
          "output_type": "execute_result"
        }
      ],
      "source": [
        "trainX.shape \n",
        "# 34799 ảnh có kích cỡ 32x32x3"
      ]
    },
    {
      "cell_type": "code",
      "execution_count": 17,
      "metadata": {
        "colab": {
          "base_uri": "https://localhost:8080/"
        },
        "id": "vckaqbGKYHUb",
        "outputId": "0c5494b5-eedd-4215-e30d-449d2f70483f"
      },
      "outputs": [
        {
          "data": {
            "text/plain": [
              "(32, 32, 3)"
            ]
          },
          "execution_count": 17,
          "metadata": {},
          "output_type": "execute_result"
        }
      ],
      "source": [
        "trainX[34798].shape"
      ]
    },
    {
      "cell_type": "code",
      "execution_count": 18,
      "metadata": {
        "colab": {
          "base_uri": "https://localhost:8080/",
          "height": 283
        },
        "id": "vunsizoJYVOH",
        "outputId": "9a95e334-fb93-4f24-eb66-7b18b01105f9"
      },
      "outputs": [
        {
          "data": {
            "text/plain": [
              "<matplotlib.image.AxesImage at 0x7f3ad2177d90>"
            ]
          },
          "execution_count": 18,
          "metadata": {},
          "output_type": "execute_result"
        },
        {
          "data": {
            "image/png": "[encoded data removed]",
            "text/plain": [
              "<Figure size 432x288 with 1 Axes>"
            ]
          },
          "metadata": {
            "needs_background": "light"
          },
          "output_type": "display_data"
        }
      ],
      "source": [
        "import matplotlib.pyplot as plt\n",
        "plt.imshow(trainX[34798])"
      ]
    },
    {
      "cell_type": "code",
      "execution_count": 19,
      "metadata": {
        "colab": {
          "base_uri": "https://localhost:8080/"
        },
        "id": "qTcBORZZYmOG",
        "outputId": "81a2477d-6877-4407-8d56-dd8412b4b5aa"
      },
      "outputs": [
        {
          "data": {
            "text/plain": [
              "25"
            ]
          },
          "execution_count": 19,
          "metadata": {},
          "output_type": "execute_result"
        }
      ],
      "source": [
        "trainY[34798] \n",
        "# nhãn của ảnh thứ 34798 có nhãn là 25"
      ]
    },
    {
      "cell_type": "code",
      "execution_count": 20,
      "metadata": {
        "id": "-iFgA_sgY76X"
      },
      "outputs": [],
      "source": [
        "classNames = {0: 'Speed limit (20km/h)',\n",
        " 1: 'Speed limit (30km/h)',\n",
        " 2: 'Speed limit (50km/h)',\n",
        " 3: 'Speed limit (60km/h)',\n",
        " 4: 'Speed limit (70km/h)',\n",
        " 5: 'Speed limit (80km/h)',\n",
        " 6: 'End of speed limit (80km/h)',\n",
        " 7: 'Speed limit (100km/h)',\n",
        " 8: 'Speed limit (120km/h)',\n",
        " 9: 'No passing',\n",
        " 10: 'No passing for vehicles over 3.5 metric tons',\n",
        " 11: 'Right-of-way at the next intersection',\n",
        " 12: 'Priority road',\n",
        " 13: 'Yield',\n",
        " 14: 'Stop',\n",
        " 15: 'No vehicles',\n",
        " 16: 'Vehicles over 3.5 metric tons prohibited',\n",
        " 17: 'No entry',\n",
        " 18: 'General caution',\n",
        " 19: 'Dangerous curve to the left',\n",
        " 20: 'Dangerous curve to the right',\n",
        " 21: 'Double curve',\n",
        " 22: 'Bumpy road',\n",
        " 23: 'Slippery road',\n",
        " 24: 'Road narrows on the right',\n",
        " 25: 'Road work',\n",
        " 26: 'Traffic signals',\n",
        " 27: 'Pedestrians',\n",
        " 28: 'Children crossing',\n",
        " 29: 'Bicycles crossing',\n",
        " 30: 'Beware of ice/snow',\n",
        " 31: 'Wild animals crossing',\n",
        " 32: 'End of all speed and passing limits',\n",
        " 33: 'Turn right ahead',\n",
        " 34: 'Turn left ahead',\n",
        " 35: 'Ahead only',\n",
        " 36: 'Go straight or right',\n",
        " 37: 'Go straight or left',\n",
        " 38: 'Keep right',\n",
        " 39: 'Keep left',\n",
        " 40: 'Roundabout mandatory',\n",
        " 41: 'End of no passing',\n",
        " 42: 'End of no passing by vehicles over 3.5 metric tons'}"
      ]
    },
    {
      "cell_type": "code",
      "execution_count": 21,
      "metadata": {
        "colab": {
          "base_uri": "https://localhost:8080/",
          "height": 36
        },
        "id": "qAu9lzS1ZHMa",
        "outputId": "e1532bd0-071f-47a1-c462-ce47317f21ef"
      },
      "outputs": [
        {
          "data": {
            "application/vnd.google.colaboratory.intrinsic+json": {
              "type": "string"
            },
            "text/plain": [
              "'Road work'"
            ]
          },
          "execution_count": 21,
          "metadata": {},
          "output_type": "execute_result"
        }
      ],
      "source": [
        "classNames[trainY[34797]]\n",
        "classNames[trainY[34798]]"
      ]
    },
    {
      "cell_type": "code",
      "execution_count": 22,
      "metadata": {
        "id": "243ttCXaZMjO"
      },
      "outputs": [],
      "source": [
        "# Chộn ảnh và nhãn để 0 ảnh hưởng đến tính tổng quát\n",
        "from sklearn.utils import shuffle\n",
        "trainX, trainY = shuffle(trainX, trainY)"
      ]
    },
    {
      "cell_type": "code",
      "execution_count": 23,
      "metadata": {
        "colab": {
          "base_uri": "https://localhost:8080/",
          "height": 283
        },
        "id": "EBj5nUCCZ8UR",
        "outputId": "1eeb2a52-3bfb-4d1c-c44d-1be1156dbf27"
      },
      "outputs": [
        {
          "data": {
            "text/plain": [
              "<matplotlib.image.AxesImage at 0x7f3ad16b5f10>"
            ]
          },
          "execution_count": 23,
          "metadata": {},
          "output_type": "execute_result"
        },
        {
          "data": {
            "image/png": "[encoded data removed]",
            "text/plain": [
              "<Figure size 432x288 with 1 Axes>"
            ]
          },
          "metadata": {
            "needs_background": "light"
          },
          "output_type": "display_data"
        }
      ],
      "source": [
        "plt.imshow(trainX[34797])"
      ]
    },
    {
      "cell_type": "code",
      "execution_count": 24,
      "metadata": {
        "colab": {
          "base_uri": "https://localhost:8080/",
          "height": 36
        },
        "id": "JAnNFuIdZ-nU",
        "outputId": "ced71ea8-c299-4d9a-f5d1-1b613838a209"
      },
      "outputs": [
        {
          "data": {
            "application/vnd.google.colaboratory.intrinsic+json": {
              "type": "string"
            },
            "text/plain": [
              "'Turn left ahead'"
            ]
          },
          "execution_count": 24,
          "metadata": {},
          "output_type": "execute_result"
        }
      ],
      "source": [
        "classNames[trainY[34797]]"
      ]
    },
    {
      "cell_type": "code",
      "execution_count": 25,
      "metadata": {
        "id": "cZB5ynB-aUiV"
      },
      "outputs": [],
      "source": [
        "\n",
        "validX = valid[\"features\"]\n",
        "validY = valid[\"labels\"]\n",
        "\n",
        "testX = test[\"features\"]\n",
        "testY = test[\"labels\"]"
      ]
    },
    {
      "cell_type": "code",
      "execution_count": 26,
      "metadata": {
        "id": "BQMlU9hS186K"
      },
      "outputs": [],
      "source": [
        "# Chuẩn hoá data xuống giá trị [0,1] \n",
        "# để sự ảnh hưởng giữa các datapoit tương đồng nhau nhiều hơn\n",
        "\n",
        "trainX = trainX.astype(\"float\")/255.0\n",
        "validX = validX.astype(\"float\")/255.0\n",
        "testX = testX.astype(\"float\")/255.0"
      ]
    },
    {
      "cell_type": "code",
      "execution_count": 27,
      "metadata": {
        "colab": {
          "base_uri": "https://localhost:8080/"
        },
        "id": "15O8PGx-894P",
        "outputId": "8dd581e6-7ec8-4271-c7f0-b87984e9f153"
      },
      "outputs": [
        {
          "data": {
            "text/plain": [
              "array([[[0.30196078, 0.3372549 , 0.27058824],\n",
              "        [0.33333333, 0.35294118, 0.28235294],\n",
              "        [0.37254902, 0.38039216, 0.30196078],\n",
              "        ...,\n",
              "        [0.21176471, 0.23529412, 0.21960784],\n",
              "        [0.21176471, 0.23137255, 0.20392157],\n",
              "        [0.23137255, 0.23529412, 0.20392157]],\n",
              "\n",
              "       [[0.3254902 , 0.34117647, 0.2745098 ],\n",
              "        [0.32156863, 0.34117647, 0.2627451 ],\n",
              "        [0.3254902 , 0.34117647, 0.26666667],\n",
              "        ...,\n",
              "        [0.21960784, 0.24313725, 0.21960784],\n",
              "        [0.22745098, 0.24313725, 0.21568627],\n",
              "        [0.23137255, 0.23137255, 0.2       ]],\n",
              "\n",
              "       [[0.2627451 , 0.2745098 , 0.21568627],\n",
              "        [0.22352941, 0.24313725, 0.19215686],\n",
              "        [0.20784314, 0.23921569, 0.19607843],\n",
              "        ...,\n",
              "        [0.23529412, 0.25882353, 0.23921569],\n",
              "        [0.24313725, 0.2627451 , 0.22745098],\n",
              "        [0.23921569, 0.24705882, 0.21176471]],\n",
              "\n",
              "       ...,\n",
              "\n",
              "       [[0.31372549, 0.33333333, 0.35686275],\n",
              "        [0.29019608, 0.32156863, 0.34117647],\n",
              "        [0.28627451, 0.3254902 , 0.36470588],\n",
              "        ...,\n",
              "        [0.31372549, 0.32156863, 0.33333333],\n",
              "        [0.31372549, 0.3254902 , 0.3372549 ],\n",
              "        [0.30980392, 0.3254902 , 0.3372549 ]],\n",
              "\n",
              "       [[0.39215686, 0.42352941, 0.48235294],\n",
              "        [0.37254902, 0.41176471, 0.47058824],\n",
              "        [0.36470588, 0.41176471, 0.48627451],\n",
              "        ...,\n",
              "        [0.27843137, 0.30196078, 0.31764706],\n",
              "        [0.27843137, 0.30588235, 0.32156863],\n",
              "        [0.27843137, 0.31372549, 0.33333333]],\n",
              "\n",
              "       [[0.64313725, 0.6627451 , 0.78039216],\n",
              "        [0.61960784, 0.64705882, 0.76862745],\n",
              "        [0.60392157, 0.63137255, 0.76078431],\n",
              "        ...,\n",
              "        [0.26666667, 0.30196078, 0.32941176],\n",
              "        [0.27058824, 0.30588235, 0.33333333],\n",
              "        [0.27843137, 0.31764706, 0.34901961]]])"
            ]
          },
          "execution_count": 27,
          "metadata": {},
          "output_type": "execute_result"
        }
      ],
      "source": [
        "trainX[34798]"
      ]
    },
    {
      "cell_type": "code",
      "execution_count": 28,
      "metadata": {
        "id": "lRhl7L262NA3"
      },
      "outputs": [],
      "source": [
        "# Vì đầu ra của mạng là onehot [0001...00] nên pai chuyển lable về dạng này\n",
        "\n",
        "from sklearn.preprocessing import LabelBinarizer\n",
        "\n",
        "lb = LabelBinarizer()\n",
        "\n",
        "trainY = lb.fit_transform(trainY)\n",
        "validY = lb.fit_transform(validY)"
      ]
    },
    {
      "cell_type": "code",
      "execution_count": 29,
      "metadata": {
        "colab": {
          "base_uri": "https://localhost:8080/"
        },
        "id": "lvGvX-7n2qaG",
        "outputId": "0f87b8bb-4a4e-41aa-df6a-41f71be6522b"
      },
      "outputs": [
        {
          "data": {
            "text/plain": [
              "41"
            ]
          },
          "execution_count": 29,
          "metadata": {},
          "output_type": "execute_result"
        }
      ],
      "source": [
        "valid[\"labels\"][0]"
      ]
    },
    {
      "cell_type": "code",
      "execution_count": 30,
      "metadata": {
        "colab": {
          "base_uri": "https://localhost:8080/"
        },
        "id": "cvwEH_S53C5G",
        "outputId": "fa88f133-1269-494a-eda7-23352e1f4b50"
      },
      "outputs": [
        {
          "data": {
            "text/plain": [
              "array([0, 0, 0, 0, 0, 0, 0, 0, 0, 0, 0, 0, 0, 0, 0, 0, 0, 0, 0, 0, 0, 0,\n",
              "       0, 0, 0, 0, 0, 0, 0, 0, 0, 0, 0, 0, 0, 0, 0, 0, 0, 0, 0, 1, 0])"
            ]
          },
          "execution_count": 30,
          "metadata": {},
          "output_type": "execute_result"
        }
      ],
      "source": [
        "validY[0]"
      ]
    },
    {
      "cell_type": "markdown",
      "metadata": {
        "id": "DKXjY4Cq-ecW"
      },
      "source": [
        "##### Huấn luyện"
      ]
    },
    {
      "cell_type": "code",
      "execution_count": 31,
      "metadata": {
        "id": "I5bDWnwJ3IDE"
      },
      "outputs": [],
      "source": [
        "from tensorflow.keras.models import Model\n",
        "from tensorflow.keras.models import Sequential\n",
        "from tensorflow.keras.layers import BatchNormalization\n",
        "from tensorflow.keras.layers import AveragePooling2D\n",
        "from tensorflow.keras.layers import MaxPooling2D\n",
        "from tensorflow.keras.layers import Conv2D\n",
        "from tensorflow.keras.layers import Activation\n",
        "from tensorflow.keras.layers import Dropout\n",
        "from tensorflow.keras.layers import Flatten\n",
        "from tensorflow.keras.layers import Input\n",
        "from tensorflow.keras.layers import Dense\n",
        "from tensorflow.keras.layers import concatenate\n",
        "from tensorflow.keras.preprocessing.image import ImageDataGenerator\n",
        "from tensorflow.keras.optimizers import SGD"
      ]
    },
    {
      "cell_type": "code",
      "execution_count": 32,
      "metadata": {
        "id": "JnP4E9Vr6Bgf"
      },
      "outputs": [],
      "source": [
        "model = Sequential()"
      ]
    },
    {
      "cell_type": "code",
      "execution_count": 33,
      "metadata": {
        "id": "CqzXw9_Q6JFV"
      },
      "outputs": [],
      "source": [
        "# Định nghĩa ảnh đầu vào\n",
        "width = 32\n",
        "height = 32\n",
        "classes = 43"
      ]
    },
    {
      "cell_type": "code",
      "execution_count": 34,
      "metadata": {
        "id": "UaEDFiDfOL-w"
      },
      "outputs": [],
      "source": [
        "shape = (width, height, 3)"
      ]
    },
    {
      "cell_type": "markdown",
      "metadata": {
        "id": "CVJs4HZj-uKV"
      },
      "source": [
        "### Xây dựng dựa trên VGG 16"
      ]
    },
    {
      "cell_type": "code",
      "execution_count": 35,
      "metadata": {
        "id": "EU4VsAjRSMvc"
      },
      "outputs": [],
      "source": [
        "# Sử dụng 32 kenel, 1 kenel có kt 3x3 \n",
        "# Dùng padding = \"same\" sẽ giúp giữ lại data ở phía cạnh\n",
        "# input_shape=shape xác định kích thước đầu vào cho ảnh đầu tiên\n",
        "model.add(Conv2D(32,(3,3), padding = \"same\", input_shape=shape))"
      ]
    },
    {
      "cell_type": "code",
      "execution_count": 36,
      "metadata": {
        "id": "rAX6n5KUVAmX"
      },
      "outputs": [],
      "source": [
        "model.add(Activation(\"relu\"))"
      ]
    },
    {
      "cell_type": "code",
      "execution_count": 37,
      "metadata": {
        "id": "JH-GtMQzUP4X"
      },
      "outputs": [],
      "source": [
        "model.add(BatchNormalization())"
      ]
    },
    {
      "cell_type": "code",
      "execution_count": 38,
      "metadata": {
        "id": "AKeMWcwHT4z_"
      },
      "outputs": [],
      "source": [
        "model.add(Conv2D(32,(3,3), padding=\"same\"))"
      ]
    },
    {
      "cell_type": "code",
      "execution_count": 39,
      "metadata": {
        "id": "qIShkCHAUA2g"
      },
      "outputs": [],
      "source": [
        "model.add(Activation(\"relu\"))"
      ]
    },
    {
      "cell_type": "code",
      "execution_count": 40,
      "metadata": {
        "id": "oPS8Zvm5TctH"
      },
      "outputs": [],
      "source": [
        "model.add(BatchNormalization())"
      ]
    },
    {
      "cell_type": "code",
      "execution_count": 41,
      "metadata": {
        "id": "DYhDW5P8VISN"
      },
      "outputs": [],
      "source": [
        "model.add(MaxPooling2D(pool_size=(2,2)))"
      ]
    },
    {
      "cell_type": "code",
      "execution_count": 42,
      "metadata": {
        "id": "t5LW9PsVVPxa"
      },
      "outputs": [],
      "source": [
        "model.add(Conv2D(64,(3,3), padding = \"same\"))"
      ]
    },
    {
      "cell_type": "code",
      "execution_count": 43,
      "metadata": {
        "id": "7A3m_FIqVWvp"
      },
      "outputs": [],
      "source": [
        "model.add(Activation(\"relu\"))"
      ]
    },
    {
      "cell_type": "code",
      "execution_count": 44,
      "metadata": {
        "id": "VSbNeSFFVZWX"
      },
      "outputs": [],
      "source": [
        "model.add(BatchNormalization())"
      ]
    },
    {
      "cell_type": "code",
      "execution_count": 45,
      "metadata": {
        "id": "PZgFJhzdVa1v"
      },
      "outputs": [],
      "source": [
        "model.add(Conv2D(64,(3,3), padding = \"same\"))"
      ]
    },
    {
      "cell_type": "code",
      "execution_count": 46,
      "metadata": {
        "id": "gHR9SbAwVdyf"
      },
      "outputs": [],
      "source": [
        "model.add(Activation(\"relu\"))"
      ]
    },
    {
      "cell_type": "code",
      "execution_count": 47,
      "metadata": {
        "id": "rGXiE5AoVgoZ"
      },
      "outputs": [],
      "source": [
        "model.add(BatchNormalization())"
      ]
    },
    {
      "cell_type": "code",
      "execution_count": 48,
      "metadata": {
        "id": "sF3dJBoDViBa"
      },
      "outputs": [],
      "source": [
        "model.add(MaxPooling2D(pool_size=(2,2)))"
      ]
    },
    {
      "cell_type": "code",
      "execution_count": 49,
      "metadata": {
        "id": "wB3GqVcoWPdn"
      },
      "outputs": [],
      "source": [
        "model.add(Flatten())\n",
        "model.add(Dense(512))\n",
        "model.add(Activation(\"relu\"))\n",
        "model.add(BatchNormalization())\n",
        "model.add(Dense(classes))\n",
        "model.add(Activation(\"softmax\"))"
      ]
    },
    {
      "cell_type": "code",
      "execution_count": 50,
      "metadata": {
        "colab": {
          "base_uri": "https://localhost:8080/"
        },
        "id": "ChEfS_icSyzj",
        "outputId": "4039b9c7-c0ba-47e6-8574-334dca4b86a2"
      },
      "outputs": [
        {
          "name": "stdout",
          "output_type": "stream",
          "text": [
            "Model: \"sequential\"\n",
            "_________________________________________________________________\n",
            " Layer (type)                Output Shape              Param #   \n",
            "=================================================================\n",
            " conv2d (Conv2D)             (None, 32, 32, 32)        896       \n",
            "                                                                 \n",
            " activation (Activation)     (None, 32, 32, 32)        0         \n",
            "                                                                 \n",
            " batch_normalization (BatchN  (None, 32, 32, 32)       128       \n",
            " ormalization)                                                   \n",
            "                                                                 \n",
            " conv2d_1 (Conv2D)           (None, 32, 32, 32)        9248      \n",
            "                                                                 \n",
            " activation_1 (Activation)   (None, 32, 32, 32)        0         \n",
            "                                                                 \n",
            " batch_normalization_1 (Batc  (None, 32, 32, 32)       128       \n",
            " hNormalization)                                                 \n",
            "                                                                 \n",
            " max_pooling2d (MaxPooling2D  (None, 16, 16, 32)       0         \n",
            " )                                                               \n",
            "                                                                 \n",
            " conv2d_2 (Conv2D)           (None, 16, 16, 64)        18496     \n",
            "                                                                 \n",
            " activation_2 (Activation)   (None, 16, 16, 64)        0         \n",
            "                                                                 \n",
            " batch_normalization_2 (Batc  (None, 16, 16, 64)       256       \n",
            " hNormalization)                                                 \n",
            "                                                                 \n",
            " conv2d_3 (Conv2D)           (None, 16, 16, 64)        36928     \n",
            "                                                                 \n",
            " activation_3 (Activation)   (None, 16, 16, 64)        0         \n",
            "                                                                 \n",
            " batch_normalization_3 (Batc  (None, 16, 16, 64)       256       \n",
            " hNormalization)                                                 \n",
            "                                                                 \n",
            " max_pooling2d_1 (MaxPooling  (None, 8, 8, 64)         0         \n",
            " 2D)                                                             \n",
            "                                                                 \n",
            " flatten (Flatten)           (None, 4096)              0         \n",
            "                                                                 \n",
            " dense (Dense)               (None, 512)               2097664   \n",
            "                                                                 \n",
            " activation_4 (Activation)   (None, 512)               0         \n",
            "                                                                 \n",
            " batch_normalization_4 (Batc  (None, 512)              2048      \n",
            " hNormalization)                                                 \n",
            "                                                                 \n",
            " dense_1 (Dense)             (None, 43)                22059     \n",
            "                                                                 \n",
            " activation_5 (Activation)   (None, 43)                0         \n",
            "                                                                 \n",
            "=================================================================\n",
            "Total params: 2,188,107\n",
            "Trainable params: 2,186,699\n",
            "Non-trainable params: 1,408\n",
            "_________________________________________________________________\n"
          ]
        }
      ],
      "source": [
        "model.summary()"
      ]
    },
    {
      "cell_type": "markdown",
      "metadata": {
        "id": "ijdbvPh5frah"
      },
      "source": [
        "### Tăng cường data khi train"
      ]
    },
    {
      "cell_type": "code",
      "execution_count": 51,
      "metadata": {
        "id": "Fo2PN0TSYem_"
      },
      "outputs": [],
      "source": [
        "\n",
        "# Ta có thể xoay, zoom to, thay đổi kích cỡ để có nhiều đặc trưng hơn mà vẫn giữ nguyên nhãn\n",
        "aug = ImageDataGenerator(rotation_range = 0.18,zoom_range = 0.15, width_shift_range = 0.2, height_shift_range =0.2, horizontal_flip = True  )"
      ]
    },
    {
      "cell_type": "code",
      "execution_count": 52,
      "metadata": {
        "id": "sX0CNqbA2jBk"
      },
      "outputs": [],
      "source": [
        "learning_rate = 0.01"
      ]
    },
    {
      "cell_type": "code",
      "execution_count": 53,
      "metadata": {
        "id": "Pi5Ijrly3jk9"
      },
      "outputs": [],
      "source": [
        "epochs = 10\n",
        "batch_size = 64"
      ]
    },
    {
      "cell_type": "code",
      "execution_count": 54,
      "metadata": {
        "id": "IyIes9O_3zhV"
      },
      "outputs": [],
      "source": [
        "opt = SGD(learning_rate = learning_rate, momentum=0.9, decay=learning_rate / epochs)"
      ]
    },
    {
      "cell_type": "code",
      "execution_count": 55,
      "metadata": {
        "id": "mr7dSRIM4HNo"
      },
      "outputs": [],
      "source": [
        "model.compile(optimizer = opt, loss = 'categorical_crossentropy',metrics = [\"accuracy\"])"
      ]
    },
    {
      "cell_type": "code",
      "execution_count": 56,
      "metadata": {
        "colab": {
          "base_uri": "https://localhost:8080/"
        },
        "id": "05i6fm4y5NaK",
        "outputId": "dedbee37-a8eb-4cdb-9d53-f23b48204761"
      },
      "outputs": [
        {
          "name": "stdout",
          "output_type": "stream",
          "text": [
            "Start Training...\n"
          ]
        },
        {
          "name": "stderr",
          "output_type": "stream",
          "text": [
            "/usr/local/lib/python3.7/dist-packages/ipykernel_launcher.py:2: UserWarning: `Model.fit_generator` is deprecated and will be removed in a future version. Please use `Model.fit`, which supports generators.\n",
            "  \n"
          ]
        },
        {
          "name": "stdout",
          "output_type": "stream",
          "text": [
            "Epoch 1/10\n",
            "543/543 [==============================] - 35s 39ms/step - loss: 2.0923 - accuracy: 0.4003 - val_loss: 1.8921 - val_accuracy: 0.4567\n",
            "Epoch 2/10\n",
            "543/543 [==============================] - 21s 39ms/step - loss: 0.9447 - accuracy: 0.6924 - val_loss: 1.7424 - val_accuracy: 0.5277\n",
            "Epoch 3/10\n",
            "543/543 [==============================] - 22s 40ms/step - loss: 0.5604 - accuracy: 0.8184 - val_loss: 1.3178 - val_accuracy: 0.6381\n",
            "Epoch 4/10\n",
            "543/543 [==============================] - 21s 38ms/step - loss: 0.3734 - accuracy: 0.8808 - val_loss: 1.1645 - val_accuracy: 0.6964\n",
            "Epoch 5/10\n",
            "543/543 [==============================] - 21s 38ms/step - loss: 0.2751 - accuracy: 0.9133 - val_loss: 0.9730 - val_accuracy: 0.7410\n",
            "Epoch 6/10\n",
            "543/543 [==============================] - 21s 38ms/step - loss: 0.2134 - accuracy: 0.9349 - val_loss: 0.8695 - val_accuracy: 0.7617\n",
            "Epoch 7/10\n",
            "543/543 [==============================] - 21s 38ms/step - loss: 0.1716 - accuracy: 0.9503 - val_loss: 0.8768 - val_accuracy: 0.7698\n",
            "Epoch 8/10\n",
            "543/543 [==============================] - 21s 38ms/step - loss: 0.1497 - accuracy: 0.9566 - val_loss: 0.9057 - val_accuracy: 0.7735\n",
            "Epoch 9/10\n",
            "543/543 [==============================] - 21s 38ms/step - loss: 0.1336 - accuracy: 0.9624 - val_loss: 0.7789 - val_accuracy: 0.7916\n",
            "Epoch 10/10\n",
            "543/543 [==============================] - 21s 38ms/step - loss: 0.1147 - accuracy: 0.9676 - val_loss: 0.7453 - val_accuracy: 0.8088\n"
          ]
        }
      ],
      "source": [
        "print(\"Start Training...\")\n",
        "H = model.fit_generator(aug.flow(trainX, trainY, batch_size=batch_size), validation_data=(validX, validY),steps_per_epoch=trainX.shape[0] // batch_size, epochs=epochs, verbose=1)"
      ]
    },
    {
      "cell_type": "markdown",
      "metadata": {
        "id": "bHO9DpAyfx-b"
      },
      "source": [
        "#### save model"
      ]
    },
    {
      "cell_type": "code",
      "execution_count": 57,
      "metadata": {
        "id": "gQB6aHuz6OtM"
      },
      "outputs": [],
      "source": [
        "model.save(\"ldn.h5\")"
      ]
    },
    {
      "cell_type": "code",
      "execution_count": 58,
      "metadata": {
        "id": "VICnO2-x6WtD"
      },
      "outputs": [],
      "source": [
        "saved_model = tf.keras.models.load_model(\"ldn.h5\")"
      ]
    },
    {
      "cell_type": "code",
      "execution_count": 71,
      "metadata": {
        "id": "xQRR-9vE4L7S"
      },
      "outputs": [],
      "source": [
        "result = saved_model.predict(testX[11:12])"
      ]
    },
    {
      "cell_type": "code",
      "execution_count": 65,
      "metadata": {
        "colab": {
          "base_uri": "https://localhost:8080/"
        },
        "id": "Xzl7bcSV4NY4",
        "outputId": "fdf2096c-7cae-4216-ab46-742271c7df4e"
      },
      "outputs": [
        {
          "data": {
            "text/plain": [
              "array([[1.11457186e-04, 1.21003526e-04, 3.29789682e-03, 2.66826508e-04,\n",
              "        4.29755482e-06, 2.53844797e-03, 6.74277777e-03, 4.03373706e-05,\n",
              "        7.96874792e-06, 8.17114199e-07, 1.25685824e-06, 1.66237191e-03,\n",
              "        9.36557293e-01, 2.80153358e-06, 3.07831783e-06, 1.32467967e-05,\n",
              "        9.26836606e-07, 1.08199674e-06, 2.45762531e-05, 2.90260832e-05,\n",
              "        1.25078459e-05, 1.58690658e-04, 9.58040800e-06, 3.46444249e-05,\n",
              "        3.90573242e-03, 1.46640302e-03, 6.10411507e-06, 7.70023689e-05,\n",
              "        3.34754474e-02, 1.60352024e-03, 2.92571873e-04, 3.18989914e-05,\n",
              "        4.58362365e-06, 3.55314660e-05, 1.12841954e-05, 2.89712596e-04,\n",
              "        2.03446354e-04, 5.35332110e-05, 5.19430323e-04, 2.03088886e-04,\n",
              "        1.17990545e-04, 4.44065845e-05, 6.01537991e-03]], dtype=float32)"
            ]
          },
          "execution_count": 65,
          "metadata": {},
          "output_type": "execute_result"
        }
      ],
      "source": [
        "result"
      ]
    },
    {
      "cell_type": "code",
      "execution_count": 72,
      "metadata": {
        "colab": {
          "base_uri": "https://localhost:8080/",
          "height": 36
        },
        "id": "iFLtiKpK4Osq",
        "outputId": "5bb6b0e7-ec55-4631-d718-aada15856eb9"
      },
      "outputs": [
        {
          "data": {
            "application/vnd.google.colaboratory.intrinsic+json": {
              "type": "string"
            },
            "text/plain": [
              "'Speed limit (100km/h)'"
            ]
          },
          "execution_count": 72,
          "metadata": {},
          "output_type": "execute_result"
        }
      ],
      "source": [
        "import numpy as np\n",
        "final = np.argmax(result)\n",
        "final = classNames[final]\n",
        "final"
      ]
    },
    {
      "cell_type": "code",
      "execution_count": 74,
      "metadata": {
        "colab": {
          "base_uri": "https://localhost:8080/",
          "height": 283
        },
        "id": "fYwV0_VW4OnZ",
        "outputId": "93f4bd75-2f15-486e-cad4-c065b61ddac0"
      },
      "outputs": [
        {
          "data": {
            "text/plain": [
              "<matplotlib.image.AxesImage at 0x7f3a543e4910>"
            ]
          },
          "execution_count": 74,
          "metadata": {},
          "output_type": "execute_result"
        },
        {
          "data": {
            "image/png": "[encoded data removed]",
            "text/plain": [
              "<Figure size 432x288 with 1 Axes>"
            ]
          },
          "metadata": {
            "needs_background": "light"
          },
          "output_type": "display_data"
        }
      ],
      "source": [
        "plt.imshow(test[\"features\"][11])"
      ]
    }
  ],
  "metadata": {
    "accelerator": "GPU",
    "colab": {
      "collapsed_sections": [],
      "name": "traffic-signs.ipynb",
      "provenance": []
    },
    "gpuClass": "standard",
    "kernelspec": {
      "display_name": "Python 3",
      "name": "python3"
    },
    "language_info": {
      "name": "python"
    }
  },
  "nbformat": 4,
  "nbformat_minor": 0
}
